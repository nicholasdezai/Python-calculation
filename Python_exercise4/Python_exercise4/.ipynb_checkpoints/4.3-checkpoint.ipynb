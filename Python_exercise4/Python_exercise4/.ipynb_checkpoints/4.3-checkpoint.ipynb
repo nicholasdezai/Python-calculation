{
 "cells": [
  {
   "cell_type": "code",
   "source": [
    "import numpy as np\n",
    "import matplotlib.pyplot as plt\n",
    "import pandas as pd"
   ],
   "metadata": {
    "collapsed": false,
    "ExecuteTime": {
     "end_time": "2024-05-07T15:11:55.870822Z",
     "start_time": "2024-05-07T15:11:54.707453Z"
    }
   },
   "id": "be54563e43a1c26a",
   "outputs": [],
   "execution_count": 1
  },
  {
   "cell_type": "code",
   "source": [
    "MTLLabel = pd.read_csv('./dataanalysis/label/MTL_Male.dat',header=None)\n",
    "MTLLabel = MTLLabel.to_numpy().flatten()\n",
    "MTLLabel"
   ],
   "metadata": {
    "collapsed": false,
    "ExecuteTime": {
     "end_time": "2024-05-07T15:11:55.878540Z",
     "start_time": "2024-05-07T15:11:55.871824Z"
    }
   },
   "id": "1de2cc3d588d2699",
   "outputs": [
    {
     "data": {
      "text/plain": [
       "array([-7.7546e-05, -3.7860e-04, -1.1856e-04, ..., -4.3105e-05,\n",
       "       -5.0434e-05, -4.0889e-05])"
      ]
     },
     "execution_count": 2,
     "metadata": {},
     "output_type": "execute_result"
    }
   ],
   "execution_count": 2
  },
  {
   "cell_type": "code",
   "source": [
    "# 对各个数组取绝对值后按照降序排序，并且记录数据元素排序前的下标号;\n",
    "sorted_indices = np.argsort(abs(MTLLabel))[::-1]\n",
    "sorted_MTLLabel = MTLLabel[sorted_indices]\n",
    "abs(sorted_MTLLabel)"
   ],
   "metadata": {
    "collapsed": false,
    "ExecuteTime": {
     "end_time": "2024-05-07T15:11:55.882200Z",
     "start_time": "2024-05-07T15:11:55.879113Z"
    }
   },
   "id": "eb61e3ae8dab0f94",
   "outputs": [
    {
     "data": {
      "text/plain": [
       "array([3.0889e-03, 2.5640e-03, 2.4487e-03, ..., 2.6743e-07, 1.9301e-07,\n",
       "       1.1055e-07])"
      ]
     },
     "execution_count": 3,
     "metadata": {},
     "output_type": "execute_result"
    }
   ],
   "execution_count": 3
  },
  {
   "cell_type": "code",
   "source": [
    "# 以文本文件格式读入文件夹\\dataanalysis\\train\\下的MTL_*_train.dat(*表示White或者Male，选择其中一种处理即可)中的数据，并且读入numpy矩阵TrainSample中\n",
    "TrainSample = pd.read_csv('./dataanalysis/train/MTL_Male_train.dat',header=None)\n",
    "TrainSample = TrainSample.to_numpy()\n",
    "print(TrainSample.shape)\n",
    "TrainSample"
   ],
   "metadata": {
    "collapsed": false,
    "ExecuteTime": {
     "end_time": "2024-05-07T15:11:56.030754Z",
     "start_time": "2024-05-07T15:11:55.882884Z"
    }
   },
   "id": "5d55796aa87ab469",
   "outputs": [
    {
     "name": "stdout",
     "output_type": "stream",
     "text": [
      "(1000, 3304)\n"
     ]
    },
    {
     "data": {
      "text/plain": [
       "array([[10,  3,  1, ...,  7,  6, 31],\n",
       "       [15,  8,  3, ...,  1, 23, 65],\n",
       "       [25, 13,  2, ...,  2, 25, 68],\n",
       "       ...,\n",
       "       [ 3, 17,  3, ...,  2, 14, 35],\n",
       "       [10,  3,  1, ...,  1, 93, 23],\n",
       "       [33, 13,  5, ...,  0, 12, 55]])"
      ]
     },
     "execution_count": 4,
     "metadata": {},
     "output_type": "execute_result"
    }
   ],
   "execution_count": 4
  },
  {
   "cell_type": "code",
   "source": [
    "TrainSub = TrainSample[:,sorted_indices[:200]]\n",
    "TrainLabel = np.append(np.zeros(500),np.ones(500))"
   ],
   "metadata": {
    "collapsed": false,
    "ExecuteTime": {
     "end_time": "2024-05-07T15:11:56.035252Z",
     "start_time": "2024-05-07T15:11:56.032079Z"
    }
   },
   "id": "354020d822ee2783",
   "outputs": [],
   "execution_count": 5
  },
  {
   "cell_type": "code",
   "source": [
    "TestSample = pd.read_csv('./dataanalysis/test/MTL_Male_test.dat',header=None)\n",
    "TestSample = TestSample.to_numpy()\n",
    "TestSub = TestSample[:,sorted_indices[:200]]\n",
    "TestLabel = np.append(np.zeros(400),np.ones(400))"
   ],
   "metadata": {
    "collapsed": false,
    "ExecuteTime": {
     "end_time": "2024-05-07T15:11:56.173496Z",
     "start_time": "2024-05-07T15:11:56.036138Z"
    }
   },
   "id": "16b9ad70c39b0305",
   "outputs": [],
   "execution_count": 6
  },
  {
   "cell_type": "code",
   "source": [
    "# 引入knn\n",
    "from sklearn.datasets import load_iris\n",
    "from sklearn.model_selection import train_test_split\n",
    "from sklearn.neighbors import KNeighborsClassifier\n",
    "from sklearn.metrics import accuracy_score"
   ],
   "metadata": {
    "collapsed": false,
    "ExecuteTime": {
     "end_time": "2024-05-07T15:11:56.489992Z",
     "start_time": "2024-05-07T15:11:56.174371Z"
    }
   },
   "id": "335bfa4d677effd8",
   "outputs": [],
   "execution_count": 7
  },
  {
   "cell_type": "code",
   "source": [
    "knn = KNeighborsClassifier(n_neighbors=2)\n",
    "\n",
    "X_train, X_test, y_train, y_test = train_test_split(TrainSub, TrainLabel, test_size=0.0001, random_state=42)\n",
    "\n",
    "knn.fit(X_train, y_train)\n",
    "y_pred = knn.predict(TestSub)\n",
    "accuracy = accuracy_score(TestLabel, y_pred)\n",
    "accuracy\n"
   ],
   "metadata": {
    "collapsed": false,
    "ExecuteTime": {
     "end_time": "2024-05-07T15:11:56.542810Z",
     "start_time": "2024-05-07T15:11:56.490870Z"
    }
   },
   "id": "5b8acf28daef290f",
   "outputs": [
    {
     "data": {
      "text/plain": [
       "0.8675"
      ]
     },
     "execution_count": 8,
     "metadata": {},
     "output_type": "execute_result"
    }
   ],
   "execution_count": 8
  },
  {
   "cell_type": "code",
   "source": [],
   "metadata": {
    "collapsed": false,
    "ExecuteTime": {
     "end_time": "2024-05-07T15:11:56.546945Z",
     "start_time": "2024-05-07T15:11:56.543761Z"
    }
   },
   "id": "cdc78c4b17929b95",
   "outputs": [],
   "execution_count": 8
  }
 ],
 "metadata": {
  "kernelspec": {
   "display_name": "Python 3",
   "language": "python",
   "name": "python3"
  },
  "language_info": {
   "codemirror_mode": {
    "name": "ipython",
    "version": 2
   },
   "file_extension": ".py",
   "mimetype": "text/x-python",
   "name": "python",
   "nbconvert_exporter": "python",
   "pygments_lexer": "ipython2",
   "version": "2.7.6"
  }
 },
 "nbformat": 4,
 "nbformat_minor": 5
}
