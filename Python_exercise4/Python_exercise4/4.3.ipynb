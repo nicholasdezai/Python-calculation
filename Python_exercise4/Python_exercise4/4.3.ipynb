{
 "cells": [
  {
   "cell_type": "code",
   "source": [
    "import numpy as np\n",
    "import numpy\n",
    "import matplotlib.pyplot as plt\n",
    "import pandas as pd"
   ],
   "metadata": {
    "collapsed": false,
    "ExecuteTime": {
     "end_time": "2024-05-07T15:50:28.091256Z",
     "start_time": "2024-05-07T15:50:28.088142Z"
    }
   },
   "id": "be54563e43a1c26a",
   "outputs": [],
   "execution_count": 30
  },
  {
   "cell_type": "code",
   "source": [
    "MTLLabel = pd.read_csv('./dataanalysis/label/MTL_Male.dat',header=None)\n",
    "MTLLabel = MTLLabel.to_numpy().flatten()\n",
    "MTLLabel"
   ],
   "metadata": {
    "collapsed": false,
    "ExecuteTime": {
     "end_time": "2024-05-07T15:50:28.106131Z",
     "start_time": "2024-05-07T15:50:28.099981Z"
    }
   },
   "id": "1de2cc3d588d2699",
   "outputs": [
    {
     "data": {
      "text/plain": [
       "array([-7.7546e-05, -3.7860e-04, -1.1856e-04, ..., -4.3105e-05,\n",
       "       -5.0434e-05, -4.0889e-05])"
      ]
     },
     "execution_count": 31,
     "metadata": {},
     "output_type": "execute_result"
    }
   ],
   "execution_count": 31
  },
  {
   "cell_type": "code",
   "source": [
    "# 对各个数组取绝对值后按照降序排序，并且记录数据元素排序前的下标号;\n",
    "sorted_indices = np.argsort(abs(MTLLabel))[::-1]\n",
    "sorted_MTLLabel = MTLLabel[sorted_indices]\n",
    "abs(sorted_MTLLabel)"
   ],
   "metadata": {
    "collapsed": false,
    "ExecuteTime": {
     "end_time": "2024-05-07T15:50:28.111584Z",
     "start_time": "2024-05-07T15:50:28.107914Z"
    }
   },
   "id": "eb61e3ae8dab0f94",
   "outputs": [
    {
     "data": {
      "text/plain": [
       "array([3.0889e-03, 2.5640e-03, 2.4487e-03, ..., 2.6743e-07, 1.9301e-07,\n",
       "       1.1055e-07])"
      ]
     },
     "execution_count": 32,
     "metadata": {},
     "output_type": "execute_result"
    }
   ],
   "execution_count": 32
  },
  {
   "metadata": {
    "ExecuteTime": {
     "end_time": "2024-05-07T15:50:28.225885Z",
     "start_time": "2024-05-07T15:50:28.112598Z"
    }
   },
   "cell_type": "code",
   "source": [
    "# numpy to pandas\n",
    "sorted_MTLLabel = abs(pd.DataFrame(sorted_MTLLabel))\n",
    "sorted_MTLLabel.plot()\n",
    "plt.show()"
   ],
   "id": "b6188d831d1b450d",
   "outputs": [
    {
     "data": {
      "text/plain": [
       "<Figure size 640x480 with 1 Axes>"
      ],
      "image/png": "[encoded data removed]"
     },
     "metadata": {},
     "output_type": "display_data"
    }
   ],
   "execution_count": 33
  },
  {
   "cell_type": "code",
   "source": [
    "# 以文本文件格式读入文件夹\\dataanalysis\\train\\下的MTL_*_train.dat(*表示White或者Male，选择其中一种处理即可)中的数据，并且读入numpy矩阵TrainSample中\n",
    "TrainSample = pd.read_csv('./dataanalysis/train/MTL_Male_train.dat',header=None)\n",
    "TrainSample = TrainSample.to_numpy()\n",
    "print(TrainSample.shape)\n",
    "TrainSample"
   ],
   "metadata": {
    "collapsed": false,
    "ExecuteTime": {
     "end_time": "2024-05-07T15:50:28.447146Z",
     "start_time": "2024-05-07T15:50:28.228214Z"
    }
   },
   "id": "5d55796aa87ab469",
   "outputs": [
    {
     "name": "stdout",
     "output_type": "stream",
     "text": [
      "(1000, 3304)\n"
     ]
    },
    {
     "data": {
      "text/plain": [
       "array([[10,  3,  1, ...,  7,  6, 31],\n",
       "       [15,  8,  3, ...,  1, 23, 65],\n",
       "       [25, 13,  2, ...,  2, 25, 68],\n",
       "       ...,\n",
       "       [ 3, 17,  3, ...,  2, 14, 35],\n",
       "       [10,  3,  1, ...,  1, 93, 23],\n",
       "       [33, 13,  5, ...,  0, 12, 55]])"
      ]
     },
     "execution_count": 34,
     "metadata": {},
     "output_type": "execute_result"
    }
   ],
   "execution_count": 34
  },
  {
   "cell_type": "code",
   "source": [
    "TrainSub = TrainSample[:,sorted_indices[:200]]\n",
    "TrainLabel = np.append(np.zeros(500),np.ones(500))"
   ],
   "metadata": {
    "collapsed": false,
    "ExecuteTime": {
     "end_time": "2024-05-07T15:50:28.450797Z",
     "start_time": "2024-05-07T15:50:28.448011Z"
    }
   },
   "id": "354020d822ee2783",
   "outputs": [],
   "execution_count": 35
  },
  {
   "cell_type": "code",
   "source": [
    "TestSample = pd.read_csv('./dataanalysis/test/MTL_Male_test.dat',header=None)\n",
    "TestSample = TestSample.to_numpy()\n",
    "TestSub = TestSample[:,sorted_indices[:200]]\n",
    "TestLabel = np.append(np.zeros(400),np.ones(400))"
   ],
   "metadata": {
    "collapsed": false,
    "ExecuteTime": {
     "end_time": "2024-05-07T15:50:28.635743Z",
     "start_time": "2024-05-07T15:50:28.451621Z"
    }
   },
   "id": "16b9ad70c39b0305",
   "outputs": [],
   "execution_count": 36
  },
  {
   "metadata": {
    "ExecuteTime": {
     "end_time": "2024-05-07T15:55:33.168540Z",
     "start_time": "2024-05-07T15:55:32.957982Z"
    }
   },
   "cell_type": "code",
   "source": [
    "# print(np.vstack(TrainLabel))\n",
    "print(TrainSub.shape)\n",
    "print(TrainLabel.shape)\n",
    "import knnexample.knn_points as knn_points\n",
    "model = knn_points.KnnClassifier(np.vstack(TrainLabel), np.vstack(TrainSub))\n",
    "for i in range(10):\n",
    "    print(model.classify(np.vstack(TestSub[i])))\n"
   ],
   "id": "7efbbf285ff7e50f",
   "outputs": [
    {
     "name": "stdout",
     "output_type": "stream",
     "text": [
      "(1000, 200)\n",
      "(1000,)\n"
     ]
    },
    {
     "ename": "TypeError",
     "evalue": "unhashable type: 'numpy.ndarray'",
     "output_type": "error",
     "traceback": [
      "\u001B[0;31m---------------------------------------------------------------------------\u001B[0m",
      "\u001B[0;31mTypeError\u001B[0m                                 Traceback (most recent call last)",
      "Cell \u001B[0;32mIn[46], line 7\u001B[0m\n\u001B[1;32m      5\u001B[0m model \u001B[38;5;241m=\u001B[39m knn_points\u001B[38;5;241m.\u001B[39mKnnClassifier(np\u001B[38;5;241m.\u001B[39mvstack(TrainLabel), np\u001B[38;5;241m.\u001B[39mvstack(TrainSub))\n\u001B[1;32m      6\u001B[0m \u001B[38;5;28;01mfor\u001B[39;00m i \u001B[38;5;129;01min\u001B[39;00m \u001B[38;5;28mrange\u001B[39m(\u001B[38;5;241m10\u001B[39m):\n\u001B[0;32m----> 7\u001B[0m     \u001B[38;5;28mprint\u001B[39m(\u001B[43mmodel\u001B[49m\u001B[38;5;241;43m.\u001B[39;49m\u001B[43mclassify\u001B[49m\u001B[43m(\u001B[49m\u001B[43mnp\u001B[49m\u001B[38;5;241;43m.\u001B[39;49m\u001B[43mvstack\u001B[49m\u001B[43m(\u001B[49m\u001B[43mTestSub\u001B[49m\u001B[43m[\u001B[49m\u001B[43mi\u001B[49m\u001B[43m]\u001B[49m\u001B[43m)\u001B[49m\u001B[43m)\u001B[49m)\n",
      "File \u001B[0;32m~/project/py_pro/Python-calculation/Python_exercise4/Python_exercise4/knnexample/knn_points.py:36\u001B[0m, in \u001B[0;36mKnnClassifier.classify\u001B[0;34m(self, point, k)\u001B[0m\n\u001B[1;32m     34\u001B[0m \u001B[38;5;28;01mfor\u001B[39;00m i \u001B[38;5;129;01min\u001B[39;00m \u001B[38;5;28mrange\u001B[39m(k):\n\u001B[1;32m     35\u001B[0m     label \u001B[38;5;241m=\u001B[39m \u001B[38;5;28mself\u001B[39m\u001B[38;5;241m.\u001B[39mlabels[ndx[i]]\n\u001B[0;32m---> 36\u001B[0m     votes\u001B[38;5;241m.\u001B[39msetdefault(label, \u001B[38;5;241m0\u001B[39m)\n\u001B[1;32m     37\u001B[0m     votes[label] \u001B[38;5;241m+\u001B[39m\u001B[38;5;241m=\u001B[39m \u001B[38;5;241m1\u001B[39m\n\u001B[1;32m     39\u001B[0m \u001B[38;5;28;01mreturn\u001B[39;00m \u001B[38;5;28mmax\u001B[39m(votes)\n",
      "\u001B[0;31mTypeError\u001B[0m: unhashable type: 'numpy.ndarray'"
     ]
    }
   ],
   "execution_count": 46
  },
  {
   "cell_type": "code",
   "source": [
    "# 引入knn\n",
    "from sklearn.datasets import load_iris\n",
    "from sklearn.model_selection import train_test_split\n",
    "from sklearn.neighbors import KNeighborsClassifier\n",
    "from sklearn.metrics import accuracy_score"
   ],
   "metadata": {
    "collapsed": false
   },
   "id": "335bfa4d677effd8",
   "outputs": [],
   "execution_count": null
  },
  {
   "cell_type": "code",
   "source": [
    "knn = KNeighborsClassifier(n_neighbors=2)\n",
    "\n",
    "X_train, X_test, y_train, y_test = train_test_split(TrainSub, TrainLabel, test_size=0.0001, random_state=42)\n",
    "\n",
    "knn.fit(X_train, y_train)\n",
    "y_pred = knn.predict(TestSub)\n",
    "accuracy = accuracy_score(TestLabel, y_pred)\n",
    "accuracy\n"
   ],
   "metadata": {
    "collapsed": false
   },
   "id": "5b8acf28daef290f",
   "outputs": [],
   "execution_count": null
  },
  {
   "cell_type": "code",
   "source": [],
   "metadata": {
    "collapsed": false
   },
   "id": "cdc78c4b17929b95",
   "outputs": [],
   "execution_count": null
  }
 ],
 "metadata": {
  "kernelspec": {
   "display_name": "Python 3",
   "language": "python",
   "name": "python3"
  },
  "language_info": {
   "codemirror_mode": {
    "name": "ipython",
    "version": 2
   },
   "file_extension": ".py",
   "mimetype": "text/x-python",
   "name": "python",
   "nbconvert_exporter": "python",
   "pygments_lexer": "ipython2",
   "version": "2.7.6"
  }
 },
 "nbformat": 4,
 "nbformat_minor": 5
}
