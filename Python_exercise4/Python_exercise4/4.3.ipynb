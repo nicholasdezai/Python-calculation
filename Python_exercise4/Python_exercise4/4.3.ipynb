{
 "cells": [
  {
   "cell_type": "code",
   "outputs": [],
   "source": [
    "import numpy as np\n",
    "import matplotlib.pyplot as plt\n",
    "import pandas as pd"
   ],
   "metadata": {
    "collapsed": false,
    "ExecuteTime": {
     "end_time": "2024-04-28T09:01:49.928977Z",
     "start_time": "2024-04-28T09:01:49.236877Z"
    }
   },
   "id": "be54563e43a1c26a",
   "execution_count": 1
  },
  {
   "cell_type": "code",
   "outputs": [
    {
     "data": {
      "text/plain": "array([-7.7546e-05, -3.7860e-04, -1.1856e-04, ..., -4.3105e-05,\n       -5.0434e-05, -4.0889e-05])"
     },
     "execution_count": 79,
     "metadata": {},
     "output_type": "execute_result"
    }
   ],
   "source": [
    "MTLLabel = pd.read_csv('./dataanalysis/label/MTL_Male.dat',header=None)\n",
    "MTLLabel = MTLLabel.to_numpy().flatten()\n",
    "MTLLabel"
   ],
   "metadata": {
    "collapsed": false,
    "ExecuteTime": {
     "end_time": "2024-04-28T12:14:41.024025Z",
     "start_time": "2024-04-28T12:14:41.016406Z"
    }
   },
   "id": "1de2cc3d588d2699",
   "execution_count": 79
  },
  {
   "cell_type": "code",
   "outputs": [
    {
     "data": {
      "text/plain": "array([3.0889e-03, 2.5640e-03, 2.4487e-03, ..., 2.6743e-07, 1.9301e-07,\n       1.1055e-07])"
     },
     "execution_count": 80,
     "metadata": {},
     "output_type": "execute_result"
    }
   ],
   "source": [
    "# 对各个数组取绝对值后按照降序排序，并且记录数据元素排序前的下标号;\n",
    "sorted_indices = np.argsort(abs(MTLLabel))[::-1]\n",
    "sorted_MTLLabel = MTLLabel[sorted_indices]\n",
    "abs(sorted_MTLLabel)"
   ],
   "metadata": {
    "collapsed": false,
    "ExecuteTime": {
     "end_time": "2024-04-28T12:14:42.332207Z",
     "start_time": "2024-04-28T12:14:42.325168Z"
    }
   },
   "id": "eb61e3ae8dab0f94",
   "execution_count": 80
  },
  {
   "cell_type": "code",
   "outputs": [
    {
     "name": "stdout",
     "output_type": "stream",
     "text": [
      "(1000, 3304)\n"
     ]
    },
    {
     "data": {
      "text/plain": "array([[10,  3,  1, ...,  7,  6, 31],\n       [15,  8,  3, ...,  1, 23, 65],\n       [25, 13,  2, ...,  2, 25, 68],\n       ...,\n       [ 3, 17,  3, ...,  2, 14, 35],\n       [10,  3,  1, ...,  1, 93, 23],\n       [33, 13,  5, ...,  0, 12, 55]])"
     },
     "execution_count": 81,
     "metadata": {},
     "output_type": "execute_result"
    }
   ],
   "source": [
    "# 以文本文件格式读入文件夹\\dataanalysis\\train\\下的MTL_*_train.dat(*表示White或者Male，选择其中一种处理即可)中的数据，并且读入numpy矩阵TrainSample中\n",
    "TrainSample = pd.read_csv('./dataanalysis/train/MTL_Male_train.dat',header=None)\n",
    "TrainSample = TrainSample.to_numpy()\n",
    "print(TrainSample.shape)\n",
    "TrainSample"
   ],
   "metadata": {
    "collapsed": false,
    "ExecuteTime": {
     "end_time": "2024-04-28T12:14:44.975275Z",
     "start_time": "2024-04-28T12:14:44.630836Z"
    }
   },
   "id": "5d55796aa87ab469",
   "execution_count": 81
  },
  {
   "cell_type": "code",
   "outputs": [],
   "source": [
    "TrainSub = TrainSample[:,sorted_indices[:200]]\n",
    "TrainLabel = np.append(np.zeros(500),np.ones(500))"
   ],
   "metadata": {
    "collapsed": false,
    "ExecuteTime": {
     "end_time": "2024-04-28T12:24:22.896605Z",
     "start_time": "2024-04-28T12:24:22.891933Z"
    }
   },
   "id": "354020d822ee2783",
   "execution_count": 100
  },
  {
   "cell_type": "code",
   "outputs": [],
   "source": [
    "TestSample = pd.read_csv('./dataanalysis/test/MTL_Male_test.dat',header=None)\n",
    "TestSample = TestSample.to_numpy()\n",
    "TestSub = TestSample[:,sorted_indices[:200]]\n",
    "TestLabel = np.append(np.zeros(400),np.ones(400))"
   ],
   "metadata": {
    "collapsed": false,
    "ExecuteTime": {
     "end_time": "2024-04-28T12:24:23.797464Z",
     "start_time": "2024-04-28T12:24:23.551378Z"
    }
   },
   "id": "16b9ad70c39b0305",
   "execution_count": 101
  },
  {
   "cell_type": "code",
   "outputs": [],
   "source": [
    "# 引入knn\n",
    "from sklearn.datasets import load_iris\n",
    "from sklearn.model_selection import train_test_split\n",
    "from sklearn.neighbors import KNeighborsClassifier\n",
    "from sklearn.metrics import accuracy_score"
   ],
   "metadata": {
    "collapsed": false,
    "ExecuteTime": {
     "end_time": "2024-04-28T12:25:56.305515Z",
     "start_time": "2024-04-28T12:25:56.245984Z"
    }
   },
   "id": "335bfa4d677effd8",
   "execution_count": 103
  },
  {
   "cell_type": "code",
   "outputs": [
    {
     "data": {
      "text/plain": "0.8675"
     },
     "execution_count": 109,
     "metadata": {},
     "output_type": "execute_result"
    }
   ],
   "source": [
    "knn = KNeighborsClassifier(n_neighbors=2)\n",
    "\n",
    "X_train, X_test, y_train, y_test = train_test_split(TrainSub, TrainLabel, test_size=0.0001, random_state=42)\n",
    "\n",
    "knn.fit(X_train, y_train)\n",
    "y_pred = knn.predict(TestSub)\n",
    "accuracy = accuracy_score(TestLabel, y_pred)\n",
    "accuracy\n"
   ],
   "metadata": {
    "collapsed": false,
    "ExecuteTime": {
     "end_time": "2024-04-28T12:29:02.862648Z",
     "start_time": "2024-04-28T12:29:02.785288Z"
    }
   },
   "id": "5b8acf28daef290f",
   "execution_count": 109
  },
  {
   "cell_type": "code",
   "outputs": [],
   "source": [],
   "metadata": {
    "collapsed": false
   },
   "id": "cdc78c4b17929b95"
  }
 ],
 "metadata": {
  "kernelspec": {
   "display_name": "Python 3",
   "language": "python",
   "name": "python3"
  },
  "language_info": {
   "codemirror_mode": {
    "name": "ipython",
    "version": 2
   },
   "file_extension": ".py",
   "mimetype": "text/x-python",
   "name": "python",
   "nbconvert_exporter": "python",
   "pygments_lexer": "ipython2",
   "version": "2.7.6"
  }
 },
 "nbformat": 4,
 "nbformat_minor": 5
}
